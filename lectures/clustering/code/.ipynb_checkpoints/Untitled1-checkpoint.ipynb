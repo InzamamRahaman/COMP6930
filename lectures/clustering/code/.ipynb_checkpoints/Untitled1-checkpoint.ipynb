{
 "cells": [
  {
   "cell_type": "code",
   "execution_count": 1,
   "metadata": {},
   "outputs": [
    {
     "name": "stdout",
     "output_type": "stream",
     "text": [
      "Populating the interactive namespace from numpy and matplotlib\n"
     ]
    }
   ],
   "source": [
    "%pylab inline"
   ]
  },
  {
   "cell_type": "code",
   "execution_count": 5,
   "metadata": {},
   "outputs": [],
   "source": [
    "import numpy as np\n",
    "import pandas as pd\n",
    "import sklearn.manifold as manifold\n",
    "import sklearn.cluster as cluster\n",
    "import sklearn.preprocessing as preprocessing\n",
    "import hdbscan\n",
    "import seaborn as sns\n",
    "import os\n",
    "import itertools\n",
    "from operator import itemgetter\n",
    "from collections import defaultdict\n"
   ]
  },
  {
   "cell_type": "code",
   "execution_count": 124,
   "metadata": {},
   "outputs": [],
   "source": [
    "data_folder = '../data'\n",
    "filenames = os.listdir(data_folder)\n",
    "filenames = list(filter(lambda x: '.ipynb_checkpoints' not in x and 'rates.csv' not in x, filenames))\n",
    "filenames = filenames[:]"
   ]
  },
  {
   "cell_type": "code",
   "execution_count": 126,
   "metadata": {},
   "outputs": [
    {
     "name": "stdout",
     "output_type": "stream",
     "text": [
      "Processing accidental_deaths.csv\n",
      "Processing accidental_deaths_children.csv\n",
      "Processing accidental_deaths_teens.csv\n",
      "Processing accidental_injuries.csv\n",
      "Processing accidental_injuries_children.csv\n",
      "Processing accidental_injuries_teens.csv\n",
      "Processing children_injured.csv\n",
      "Processing children_killed.csv\n",
      "Processing mass_shootings_2014.csv\n",
      "Processing mass_shootings_2015.csv\n",
      "Processing mass_shootings_2016.csv\n",
      "Processing mass_shootings_all.csv\n",
      "Processing officer_involved_shootings.csv\n",
      "Processing teens_injured.csv\n",
      "Processing teens_killed.csv\n"
     ]
    }
   ],
   "source": [
    "df = None\n",
    "relevant_cols = ['State', '# Killed']\n",
    "for filename in filenames:\n",
    "    print(f'Processing {filename}')\n",
    "    file_path = f'{data_folder}/{filename}'\n",
    "    #df1 = pd.read_csv(open(file_path, 'rU'),  encoding='utf-8', engine='c')\n",
    "    df1 = pd.read_csv(file_path)\n",
    "    df1['# Killed'] = df1['# Killed'].astype(dtype='float64')\n",
    "    #df1['# Injured'] = df1['# Injured'].astype(dtype='float64')\n",
    "    df1 = df1[relevant_cols]\n",
    "    df1 = df1.rename(index=str, columns={'# Killed': f'{filename} # Killed', \n",
    "                                  '# Injured': f'{filename} # Injured'})\n",
    "    df1 = df1.groupby('State').sum()\n",
    "    if df is not None:\n",
    "        df = df.join(df1)\n",
    "    else:\n",
    "        df = df1\n",
    "df = df.fillna(value=0)"
   ]
  },
  {
   "cell_type": "code",
   "execution_count": 127,
   "metadata": {},
   "outputs": [
    {
     "data": {
      "text/html": [
       "<div>\n",
       "<style>\n",
       "    .dataframe thead tr:only-child th {\n",
       "        text-align: right;\n",
       "    }\n",
       "\n",
       "    .dataframe thead th {\n",
       "        text-align: left;\n",
       "    }\n",
       "\n",
       "    .dataframe tbody tr th {\n",
       "        vertical-align: top;\n",
       "    }\n",
       "</style>\n",
       "<table border=\"1\" class=\"dataframe\">\n",
       "  <thead>\n",
       "    <tr style=\"text-align: right;\">\n",
       "      <th></th>\n",
       "      <th>accidental_deaths.csv # Killed</th>\n",
       "      <th>accidental_deaths_children.csv # Killed</th>\n",
       "      <th>accidental_deaths_teens.csv # Killed</th>\n",
       "      <th>accidental_injuries.csv # Killed</th>\n",
       "      <th>accidental_injuries_children.csv # Killed</th>\n",
       "      <th>accidental_injuries_teens.csv # Killed</th>\n",
       "      <th>children_injured.csv # Killed</th>\n",
       "      <th>children_killed.csv # Killed</th>\n",
       "      <th>mass_shootings_2014.csv # Killed</th>\n",
       "      <th>mass_shootings_2015.csv # Killed</th>\n",
       "      <th>mass_shootings_2016.csv # Killed</th>\n",
       "      <th>mass_shootings_all.csv # Killed</th>\n",
       "      <th>officer_involved_shootings.csv # Killed</th>\n",
       "      <th>teens_injured.csv # Killed</th>\n",
       "      <th>teens_killed.csv # Killed</th>\n",
       "    </tr>\n",
       "    <tr>\n",
       "      <th>State</th>\n",
       "      <th></th>\n",
       "      <th></th>\n",
       "      <th></th>\n",
       "      <th></th>\n",
       "      <th></th>\n",
       "      <th></th>\n",
       "      <th></th>\n",
       "      <th></th>\n",
       "      <th></th>\n",
       "      <th></th>\n",
       "      <th></th>\n",
       "      <th></th>\n",
       "      <th></th>\n",
       "      <th></th>\n",
       "      <th></th>\n",
       "    </tr>\n",
       "  </thead>\n",
       "  <tbody>\n",
       "    <tr>\n",
       "      <th>Alabama</th>\n",
       "      <td>14.0</td>\n",
       "      <td>9.0</td>\n",
       "      <td>6.0</td>\n",
       "      <td>0.0</td>\n",
       "      <td>1.0</td>\n",
       "      <td>1.0</td>\n",
       "      <td>3.0</td>\n",
       "      <td>15.0</td>\n",
       "      <td>1.0</td>\n",
       "      <td>4.0</td>\n",
       "      <td>15.0</td>\n",
       "      <td>18.0</td>\n",
       "      <td>2.0</td>\n",
       "      <td>0.0</td>\n",
       "      <td>11.0</td>\n",
       "    </tr>\n",
       "    <tr>\n",
       "      <th>Alaska</th>\n",
       "      <td>5.0</td>\n",
       "      <td>5.0</td>\n",
       "      <td>1.0</td>\n",
       "      <td>0.0</td>\n",
       "      <td>0.0</td>\n",
       "      <td>0.0</td>\n",
       "      <td>0.0</td>\n",
       "      <td>19.0</td>\n",
       "      <td>0.0</td>\n",
       "      <td>0.0</td>\n",
       "      <td>0.0</td>\n",
       "      <td>0.0</td>\n",
       "      <td>0.0</td>\n",
       "      <td>0.0</td>\n",
       "      <td>5.0</td>\n",
       "    </tr>\n",
       "    <tr>\n",
       "      <th>Arizona</th>\n",
       "      <td>8.0</td>\n",
       "      <td>4.0</td>\n",
       "      <td>4.0</td>\n",
       "      <td>0.0</td>\n",
       "      <td>0.0</td>\n",
       "      <td>0.0</td>\n",
       "      <td>2.0</td>\n",
       "      <td>21.0</td>\n",
       "      <td>1.0</td>\n",
       "      <td>15.0</td>\n",
       "      <td>12.0</td>\n",
       "      <td>14.0</td>\n",
       "      <td>1.0</td>\n",
       "      <td>0.0</td>\n",
       "      <td>15.0</td>\n",
       "    </tr>\n",
       "    <tr>\n",
       "      <th>Arkansas</th>\n",
       "      <td>13.0</td>\n",
       "      <td>5.0</td>\n",
       "      <td>4.0</td>\n",
       "      <td>0.0</td>\n",
       "      <td>0.0</td>\n",
       "      <td>0.0</td>\n",
       "      <td>1.0</td>\n",
       "      <td>7.0</td>\n",
       "      <td>5.0</td>\n",
       "      <td>2.0</td>\n",
       "      <td>2.0</td>\n",
       "      <td>3.0</td>\n",
       "      <td>1.0</td>\n",
       "      <td>1.0</td>\n",
       "      <td>4.0</td>\n",
       "    </tr>\n",
       "    <tr>\n",
       "      <th>California</th>\n",
       "      <td>17.0</td>\n",
       "      <td>4.0</td>\n",
       "      <td>9.0</td>\n",
       "      <td>0.0</td>\n",
       "      <td>1.0</td>\n",
       "      <td>1.0</td>\n",
       "      <td>3.0</td>\n",
       "      <td>35.0</td>\n",
       "      <td>45.0</td>\n",
       "      <td>38.0</td>\n",
       "      <td>37.0</td>\n",
       "      <td>59.0</td>\n",
       "      <td>2.0</td>\n",
       "      <td>5.0</td>\n",
       "      <td>41.0</td>\n",
       "    </tr>\n",
       "  </tbody>\n",
       "</table>\n",
       "</div>"
      ],
      "text/plain": [
       "            accidental_deaths.csv # Killed  \\\n",
       "State                                        \n",
       "Alabama                               14.0   \n",
       "Alaska                                 5.0   \n",
       "Arizona                                8.0   \n",
       "Arkansas                              13.0   \n",
       "California                            17.0   \n",
       "\n",
       "            accidental_deaths_children.csv # Killed  \\\n",
       "State                                                 \n",
       "Alabama                                         9.0   \n",
       "Alaska                                          5.0   \n",
       "Arizona                                         4.0   \n",
       "Arkansas                                        5.0   \n",
       "California                                      4.0   \n",
       "\n",
       "            accidental_deaths_teens.csv # Killed  \\\n",
       "State                                              \n",
       "Alabama                                      6.0   \n",
       "Alaska                                       1.0   \n",
       "Arizona                                      4.0   \n",
       "Arkansas                                     4.0   \n",
       "California                                   9.0   \n",
       "\n",
       "            accidental_injuries.csv # Killed  \\\n",
       "State                                          \n",
       "Alabama                                  0.0   \n",
       "Alaska                                   0.0   \n",
       "Arizona                                  0.0   \n",
       "Arkansas                                 0.0   \n",
       "California                               0.0   \n",
       "\n",
       "            accidental_injuries_children.csv # Killed  \\\n",
       "State                                                   \n",
       "Alabama                                           1.0   \n",
       "Alaska                                            0.0   \n",
       "Arizona                                           0.0   \n",
       "Arkansas                                          0.0   \n",
       "California                                        1.0   \n",
       "\n",
       "            accidental_injuries_teens.csv # Killed  \\\n",
       "State                                                \n",
       "Alabama                                        1.0   \n",
       "Alaska                                         0.0   \n",
       "Arizona                                        0.0   \n",
       "Arkansas                                       0.0   \n",
       "California                                     1.0   \n",
       "\n",
       "            children_injured.csv # Killed  children_killed.csv # Killed  \\\n",
       "State                                                                     \n",
       "Alabama                               3.0                          15.0   \n",
       "Alaska                                0.0                          19.0   \n",
       "Arizona                               2.0                          21.0   \n",
       "Arkansas                              1.0                           7.0   \n",
       "California                            3.0                          35.0   \n",
       "\n",
       "            mass_shootings_2014.csv # Killed  \\\n",
       "State                                          \n",
       "Alabama                                  1.0   \n",
       "Alaska                                   0.0   \n",
       "Arizona                                  1.0   \n",
       "Arkansas                                 5.0   \n",
       "California                              45.0   \n",
       "\n",
       "            mass_shootings_2015.csv # Killed  \\\n",
       "State                                          \n",
       "Alabama                                  4.0   \n",
       "Alaska                                   0.0   \n",
       "Arizona                                 15.0   \n",
       "Arkansas                                 2.0   \n",
       "California                              38.0   \n",
       "\n",
       "            mass_shootings_2016.csv # Killed  mass_shootings_all.csv # Killed  \\\n",
       "State                                                                           \n",
       "Alabama                                 15.0                             18.0   \n",
       "Alaska                                   0.0                              0.0   \n",
       "Arizona                                 12.0                             14.0   \n",
       "Arkansas                                 2.0                              3.0   \n",
       "California                              37.0                             59.0   \n",
       "\n",
       "            officer_involved_shootings.csv # Killed  \\\n",
       "State                                                 \n",
       "Alabama                                         2.0   \n",
       "Alaska                                          0.0   \n",
       "Arizona                                         1.0   \n",
       "Arkansas                                        1.0   \n",
       "California                                      2.0   \n",
       "\n",
       "            teens_injured.csv # Killed  teens_killed.csv # Killed  \n",
       "State                                                              \n",
       "Alabama                            0.0                       11.0  \n",
       "Alaska                             0.0                        5.0  \n",
       "Arizona                            0.0                       15.0  \n",
       "Arkansas                           1.0                        4.0  \n",
       "California                         5.0                       41.0  "
      ]
     },
     "execution_count": 127,
     "metadata": {},
     "output_type": "execute_result"
    }
   ],
   "source": [
    "df.head()"
   ]
  },
  {
   "cell_type": "code",
   "execution_count": 128,
   "metadata": {},
   "outputs": [],
   "source": [
    "values = df.values\n",
    "state = df.index\n",
    "features = values[:,0:]\n",
    "scaler = preprocessing.MinMaxScaler()\n",
    "features = scaler.fit_transform(features)"
   ]
  },
  {
   "cell_type": "code",
   "execution_count": 129,
   "metadata": {},
   "outputs": [],
   "source": [
    "manifold_method = manifold.SpectralEmbedding(n_components=2)\n",
    "projections = manifold_method.fit_transform(features)"
   ]
  },
  {
   "cell_type": "code",
   "execution_count": 130,
   "metadata": {},
   "outputs": [
    {
     "data": {
      "text/plain": [
       "<matplotlib.collections.PathCollection at 0x1a12329f60>"
      ]
     },
     "execution_count": 130,
     "metadata": {},
     "output_type": "execute_result"
    },
    {
     "data": {
      "image/png": "[encoded data removed]",
      "text/plain": [
       "<matplotlib.figure.Figure at 0x1a1232b588>"
      ]
     },
     "metadata": {},
     "output_type": "display_data"
    }
   ],
   "source": [
    "plt.scatter(projections[:,0], projections[:,1])"
   ]
  },
  {
   "cell_type": "code",
   "execution_count": 131,
   "metadata": {},
   "outputs": [
    {
     "data": {
      "text/plain": [
       "Text(0.5,1,'Elbow curve')"
      ]
     },
     "execution_count": 131,
     "metadata": {},
     "output_type": "execute_result"
    },
    {
     "data": {
      "image/png": "[encoded data removed]",
      "text/plain": [
       "<matplotlib.figure.Figure at 0x1084aec18>"
      ]
     },
     "metadata": {},
     "output_type": "display_data"
    }
   ],
   "source": [
    "X = features\n",
    "distorsions = []\n",
    "for k in range(2, 20):\n",
    "    kmeans = cluster.KMeans(n_clusters=k)\n",
    "    kmeans.fit(X)\n",
    "    distorsions.append(kmeans.inertia_)\n",
    "\n",
    "fig = plt.figure(figsize=(15, 5))\n",
    "plt.plot(range(2, 20), distorsions, 'bo-')\n",
    "plt.grid(True)\n",
    "plt.title('Elbow curve')"
   ]
  },
  {
   "cell_type": "code",
   "execution_count": 132,
   "metadata": {},
   "outputs": [],
   "source": [
    "k = 5\n",
    "kmeans = cluster.KMeans(n_clusters=k)"
   ]
  },
  {
   "cell_type": "code",
   "execution_count": 133,
   "metadata": {},
   "outputs": [],
   "source": [
    "clusters = kmeans.fit_predict(features)"
   ]
  },
  {
   "cell_type": "code",
   "execution_count": 134,
   "metadata": {},
   "outputs": [],
   "source": [
    "assignments = list(zip(state, clusters))"
   ]
  },
  {
   "cell_type": "code",
   "execution_count": 135,
   "metadata": {},
   "outputs": [],
   "source": [
    "groupings = defaultdict(list)\n",
    "state_g = dict()\n",
    "for s, c in assignments:\n",
    "    groupings[c].append(s)\n",
    "    state_g[s] = c"
   ]
  },
  {
   "cell_type": "code",
   "execution_count": 136,
   "metadata": {},
   "outputs": [
    {
     "name": "stdout",
     "output_type": "stream",
     "text": [
      "defaultdict(<class 'list'>, {1: ['Alabama', 'Georgia', 'Michigan', 'South Carolina', 'Tennessee'], 3: ['Alaska', 'Arkansas', 'Colorado', 'Connecticut', 'Hawaii', 'Idaho', 'Iowa', 'Kansas', 'Kentucky', 'Maine', 'Maryland', 'Massachusetts', 'Minnesota', 'Mississippi', 'Montana', 'Nebraska', 'Nevada', 'New Jersey', 'New Mexico', 'North Dakota', 'Oklahoma', 'Oregon', 'South Dakota', 'Utah', 'Vermont', 'Washington', 'West Virginia', 'Wisconsin', 'Wyoming'], 0: ['Arizona', 'Indiana', 'Louisiana', 'Missouri', 'New York', 'North Carolina', 'Ohio', 'Pennsylvania', 'Virginia'], 4: ['California', 'Florida', 'Illinois'], 2: ['Texas']})\n"
     ]
    }
   ],
   "source": [
    "print(groupings)"
   ]
  },
  {
   "cell_type": "code",
   "execution_count": 137,
   "metadata": {},
   "outputs": [
    {
     "data": {
      "text/plain": [
       "['Alaska',\n",
       " 'Arkansas',\n",
       " 'Colorado',\n",
       " 'Connecticut',\n",
       " 'Hawaii',\n",
       " 'Idaho',\n",
       " 'Iowa',\n",
       " 'Kansas',\n",
       " 'Kentucky',\n",
       " 'Maine',\n",
       " 'Maryland',\n",
       " 'Massachusetts',\n",
       " 'Minnesota',\n",
       " 'Mississippi',\n",
       " 'Montana',\n",
       " 'Nebraska',\n",
       " 'Nevada',\n",
       " 'New Jersey',\n",
       " 'New Mexico',\n",
       " 'North Dakota',\n",
       " 'Oklahoma',\n",
       " 'Oregon',\n",
       " 'South Dakota',\n",
       " 'Utah',\n",
       " 'Vermont',\n",
       " 'Washington',\n",
       " 'West Virginia',\n",
       " 'Wisconsin',\n",
       " 'Wyoming']"
      ]
     },
     "execution_count": 137,
     "metadata": {},
     "output_type": "execute_result"
    }
   ],
   "source": [
    "groupings[state_g['Wyoming']]"
   ]
  },
  {
   "cell_type": "code",
   "execution_count": 138,
   "metadata": {},
   "outputs": [],
   "source": [
    "rates_filepath = '../data/rates.csv'\n",
    "rates_df = pd.read_csv(rates_filepath)\n",
    "rates_df.index = rates_df['State']\n",
    "rates_df = rates_df[['FA_Ownership_Rate']]"
   ]
  },
  {
   "cell_type": "code",
   "execution_count": 139,
   "metadata": {},
   "outputs": [
    {
     "data": {
      "text/plain": [
       "0.57799999999999996"
      ]
     },
     "execution_count": 139,
     "metadata": {},
     "output_type": "execute_result"
    }
   ],
   "source": [
    "rates_df.loc['Alaska'].values[0]"
   ]
  },
  {
   "cell_type": "code",
   "execution_count": 140,
   "metadata": {},
   "outputs": [],
   "source": [
    "rates = {}\n",
    "for key, states in groupings.items():\n",
    "    rs = []\n",
    "    for s in states:\n",
    "        r = rates_df.loc[s].values[0]\n",
    "        rs.append(r)\n",
    "    rates[key] = rs"
   ]
  },
  {
   "cell_type": "code",
   "execution_count": 146,
   "metadata": {},
   "outputs": [],
   "source": [
    "p_vals = np.ones(shape=(k, k))\n",
    "from scipy.stats import ttest_ind\n",
    "for i in range(k):\n",
    "    for j in range(k):\n",
    "        if i != j:\n",
    "            x = rates[i]\n",
    "            y = rates[j]\n",
    "            if len(x) == 1:\n",
    "                x = x * 2\n",
    "            if len(y) == 1:\n",
    "                y = y * 2\n",
    "            s, p = ttest_ind(x, y , equal_var=False, nan_policy='raise')\n",
    "            p_vals[i][j] = p\n",
    "        "
   ]
  },
  {
   "cell_type": "code",
   "execution_count": 147,
   "metadata": {},
   "outputs": [
    {
     "data": {
      "text/plain": [
       "array([[ 1.        ,  0.04033499,  0.81830716,  0.17562166,  0.08834847],\n",
       "       [ 0.04033499,  1.        ,  0.03169003,  0.45038438,  0.02063315],\n",
       "       [ 0.81830716,  0.03169003,  1.        ,  0.10065582,  0.10368219],\n",
       "       [ 0.17562166,  0.45038438,  0.10065582,  1.        ,  0.02595352],\n",
       "       [ 0.08834847,  0.02063315,  0.10368219,  0.02595352,  1.        ]])"
      ]
     },
     "execution_count": 147,
     "metadata": {},
     "output_type": "execute_result"
    }
   ],
   "source": [
    "p_vals"
   ]
  },
  {
   "cell_type": "code",
   "execution_count": 155,
   "metadata": {},
   "outputs": [
    {
     "data": {
      "text/plain": [
       "<matplotlib.axes._subplots.AxesSubplot at 0x108426588>"
      ]
     },
     "execution_count": 155,
     "metadata": {},
     "output_type": "execute_result"
    },
    {
     "data": {
      "image/png": "[encoded data removed]",
      "text/plain": [
       "<matplotlib.figure.Figure at 0x10844fac8>"
      ]
     },
     "metadata": {},
     "output_type": "display_data"
    }
   ],
   "source": [
    "sns.heatmap(1 - p_vals)"
   ]
  },
  {
   "cell_type": "code",
   "execution_count": 156,
   "metadata": {},
   "outputs": [
    {
     "data": {
      "text/plain": [
       "['California', 'Florida', 'Illinois']"
      ]
     },
     "execution_count": 156,
     "metadata": {},
     "output_type": "execute_result"
    }
   ],
   "source": [
    "groupings[4]"
   ]
  },
  {
   "cell_type": "code",
   "execution_count": 158,
   "metadata": {},
   "outputs": [
    {
     "data": {
      "text/html": [
       "<div>\n",
       "<style>\n",
       "    .dataframe thead tr:only-child th {\n",
       "        text-align: right;\n",
       "    }\n",
       "\n",
       "    .dataframe thead th {\n",
       "        text-align: left;\n",
       "    }\n",
       "\n",
       "    .dataframe tbody tr th {\n",
       "        vertical-align: top;\n",
       "    }\n",
       "</style>\n",
       "<table border=\"1\" class=\"dataframe\">\n",
       "  <thead>\n",
       "    <tr style=\"text-align: right;\">\n",
       "      <th></th>\n",
       "      <th>accidental_deaths.csv # Killed</th>\n",
       "      <th>accidental_deaths_children.csv # Killed</th>\n",
       "      <th>accidental_deaths_teens.csv # Killed</th>\n",
       "      <th>accidental_injuries.csv # Killed</th>\n",
       "      <th>accidental_injuries_children.csv # Killed</th>\n",
       "      <th>accidental_injuries_teens.csv # Killed</th>\n",
       "      <th>children_injured.csv # Killed</th>\n",
       "      <th>children_killed.csv # Killed</th>\n",
       "      <th>mass_shootings_2014.csv # Killed</th>\n",
       "      <th>mass_shootings_2015.csv # Killed</th>\n",
       "      <th>mass_shootings_2016.csv # Killed</th>\n",
       "      <th>mass_shootings_all.csv # Killed</th>\n",
       "      <th>officer_involved_shootings.csv # Killed</th>\n",
       "      <th>teens_injured.csv # Killed</th>\n",
       "      <th>teens_killed.csv # Killed</th>\n",
       "    </tr>\n",
       "    <tr>\n",
       "      <th>State</th>\n",
       "      <th></th>\n",
       "      <th></th>\n",
       "      <th></th>\n",
       "      <th></th>\n",
       "      <th></th>\n",
       "      <th></th>\n",
       "      <th></th>\n",
       "      <th></th>\n",
       "      <th></th>\n",
       "      <th></th>\n",
       "      <th></th>\n",
       "      <th></th>\n",
       "      <th></th>\n",
       "      <th></th>\n",
       "      <th></th>\n",
       "    </tr>\n",
       "  </thead>\n",
       "  <tbody>\n",
       "    <tr>\n",
       "      <th>California</th>\n",
       "      <td>17.0</td>\n",
       "      <td>4.0</td>\n",
       "      <td>9.0</td>\n",
       "      <td>0.0</td>\n",
       "      <td>1.0</td>\n",
       "      <td>1.0</td>\n",
       "      <td>3.0</td>\n",
       "      <td>35.0</td>\n",
       "      <td>45.0</td>\n",
       "      <td>38.0</td>\n",
       "      <td>37.0</td>\n",
       "      <td>59.0</td>\n",
       "      <td>2.0</td>\n",
       "      <td>5.0</td>\n",
       "      <td>41.0</td>\n",
       "    </tr>\n",
       "    <tr>\n",
       "      <th>Florida</th>\n",
       "      <td>34.0</td>\n",
       "      <td>10.0</td>\n",
       "      <td>22.0</td>\n",
       "      <td>0.0</td>\n",
       "      <td>0.0</td>\n",
       "      <td>0.0</td>\n",
       "      <td>9.0</td>\n",
       "      <td>58.0</td>\n",
       "      <td>26.0</td>\n",
       "      <td>18.0</td>\n",
       "      <td>80.0</td>\n",
       "      <td>92.0</td>\n",
       "      <td>0.0</td>\n",
       "      <td>3.0</td>\n",
       "      <td>47.0</td>\n",
       "    </tr>\n",
       "    <tr>\n",
       "      <th>Illinois</th>\n",
       "      <td>16.0</td>\n",
       "      <td>6.0</td>\n",
       "      <td>7.0</td>\n",
       "      <td>0.0</td>\n",
       "      <td>1.0</td>\n",
       "      <td>2.0</td>\n",
       "      <td>4.0</td>\n",
       "      <td>20.0</td>\n",
       "      <td>16.0</td>\n",
       "      <td>17.0</td>\n",
       "      <td>22.0</td>\n",
       "      <td>33.0</td>\n",
       "      <td>1.0</td>\n",
       "      <td>9.0</td>\n",
       "      <td>57.0</td>\n",
       "    </tr>\n",
       "  </tbody>\n",
       "</table>\n",
       "</div>"
      ],
      "text/plain": [
       "            accidental_deaths.csv # Killed  \\\n",
       "State                                        \n",
       "California                            17.0   \n",
       "Florida                               34.0   \n",
       "Illinois                              16.0   \n",
       "\n",
       "            accidental_deaths_children.csv # Killed  \\\n",
       "State                                                 \n",
       "California                                      4.0   \n",
       "Florida                                        10.0   \n",
       "Illinois                                        6.0   \n",
       "\n",
       "            accidental_deaths_teens.csv # Killed  \\\n",
       "State                                              \n",
       "California                                   9.0   \n",
       "Florida                                     22.0   \n",
       "Illinois                                     7.0   \n",
       "\n",
       "            accidental_injuries.csv # Killed  \\\n",
       "State                                          \n",
       "California                               0.0   \n",
       "Florida                                  0.0   \n",
       "Illinois                                 0.0   \n",
       "\n",
       "            accidental_injuries_children.csv # Killed  \\\n",
       "State                                                   \n",
       "California                                        1.0   \n",
       "Florida                                           0.0   \n",
       "Illinois                                          1.0   \n",
       "\n",
       "            accidental_injuries_teens.csv # Killed  \\\n",
       "State                                                \n",
       "California                                     1.0   \n",
       "Florida                                        0.0   \n",
       "Illinois                                       2.0   \n",
       "\n",
       "            children_injured.csv # Killed  children_killed.csv # Killed  \\\n",
       "State                                                                     \n",
       "California                            3.0                          35.0   \n",
       "Florida                               9.0                          58.0   \n",
       "Illinois                              4.0                          20.0   \n",
       "\n",
       "            mass_shootings_2014.csv # Killed  \\\n",
       "State                                          \n",
       "California                              45.0   \n",
       "Florida                                 26.0   \n",
       "Illinois                                16.0   \n",
       "\n",
       "            mass_shootings_2015.csv # Killed  \\\n",
       "State                                          \n",
       "California                              38.0   \n",
       "Florida                                 18.0   \n",
       "Illinois                                17.0   \n",
       "\n",
       "            mass_shootings_2016.csv # Killed  mass_shootings_all.csv # Killed  \\\n",
       "State                                                                           \n",
       "California                              37.0                             59.0   \n",
       "Florida                                 80.0                             92.0   \n",
       "Illinois                                22.0                             33.0   \n",
       "\n",
       "            officer_involved_shootings.csv # Killed  \\\n",
       "State                                                 \n",
       "California                                      2.0   \n",
       "Florida                                         0.0   \n",
       "Illinois                                        1.0   \n",
       "\n",
       "            teens_injured.csv # Killed  teens_killed.csv # Killed  \n",
       "State                                                              \n",
       "California                         5.0                       41.0  \n",
       "Florida                            3.0                       47.0  \n",
       "Illinois                           9.0                       57.0  "
      ]
     },
     "execution_count": 158,
     "metadata": {},
     "output_type": "execute_result"
    }
   ],
   "source": [
    "df.loc[['California', 'Florida', 'Illinois']]"
   ]
  },
  {
   "cell_type": "code",
   "execution_count": null,
   "metadata": {},
   "outputs": [],
   "source": []
  }
 ],
 "metadata": {
  "kernelspec": {
   "display_name": "Python 3",
   "language": "python",
   "name": "python3"
  },
  "language_info": {
   "codemirror_mode": {
    "name": "ipython",
    "version": 3
   },
   "file_extension": ".py",
   "mimetype": "text/x-python",
   "name": "python",
   "nbconvert_exporter": "python",
   "pygments_lexer": "ipython3",
   "version": "3.6.3"
  }
 },
 "nbformat": 4,
 "nbformat_minor": 2
}
