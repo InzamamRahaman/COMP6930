{
 "cells": [
  {
   "cell_type": "code",
   "execution_count": 1,
   "metadata": {},
   "outputs": [
    {
     "name": "stdout",
     "output_type": "stream",
     "text": [
      "Populating the interactive namespace from numpy and matplotlib\n"
     ]
    }
   ],
   "source": [
    "%pylab inline"
   ]
  },
  {
   "cell_type": "code",
   "execution_count": 2,
   "metadata": {},
   "outputs": [],
   "source": [
    "import numpy as np\n",
    "import pandas as pd\n",
    "import sklearn.manifold as manifold\n",
    "import sklearn.cluster as cluster\n",
    "import sklearn.preprocessing as preprocessing\n",
    "import hdbscan\n",
    "import seaborn as sns\n",
    "import os\n",
    "import itertools\n",
    "from operator import itemgetter\n",
    "from collections import defaultdict\n",
    "import hdbscan\n"
   ]
  },
  {
   "cell_type": "code",
   "execution_count": 19,
   "metadata": {},
   "outputs": [],
   "source": [
    "data_folder = '../data'\n",
    "filenames = os.listdir(data_folder)\n",
    "filenames = list(filter(lambda x: '.ipynb_checkpoints' not in x and 'rates.csv' not in x, filenames))\n",
    "filenames = filenames[:4]"
   ]
  },
  {
   "cell_type": "code",
   "execution_count": 20,
   "metadata": {},
   "outputs": [
    {
     "name": "stdout",
     "output_type": "stream",
     "text": [
      "Processing accidental_deaths.csv\n",
      "Processing accidental_deaths_children.csv\n",
      "Processing accidental_deaths_teens.csv\n",
      "Processing accidental_injuries.csv\n"
     ]
    }
   ],
   "source": [
    "df = None\n",
    "relevant_cols = ['State', '# Killed']\n",
    "for filename in filenames:\n",
    "    print(f'Processing {filename}')\n",
    "    file_path = f'{data_folder}/{filename}'\n",
    "    #df1 = pd.read_csv(open(file_path, 'rU'),  encoding='utf-8', engine='c')\n",
    "    df1 = pd.read_csv(file_path)\n",
    "    df1['# Killed'] = df1['# Killed'].astype(dtype='float64')\n",
    "    #df1['# Injured'] = df1['# Injured'].astype(dtype='float64')\n",
    "    df1 = df1[relevant_cols]\n",
    "    df1 = df1.rename(index=str, columns={'# Killed': f'{filename} # Killed', \n",
    "                                  '# Injured': f'{filename} # Injured'})\n",
    "    df1 = df1.groupby('State').sum()\n",
    "    if df is not None:\n",
    "        df = df.join(df1)\n",
    "    else:\n",
    "        df = df1\n",
    "df = df.fillna(value=0)"
   ]
  },
  {
   "cell_type": "code",
   "execution_count": 21,
   "metadata": {},
   "outputs": [
    {
     "data": {
      "text/html": [
       "<div>\n",
       "<style>\n",
       "    .dataframe thead tr:only-child th {\n",
       "        text-align: right;\n",
       "    }\n",
       "\n",
       "    .dataframe thead th {\n",
       "        text-align: left;\n",
       "    }\n",
       "\n",
       "    .dataframe tbody tr th {\n",
       "        vertical-align: top;\n",
       "    }\n",
       "</style>\n",
       "<table border=\"1\" class=\"dataframe\">\n",
       "  <thead>\n",
       "    <tr style=\"text-align: right;\">\n",
       "      <th></th>\n",
       "      <th>accidental_deaths.csv # Killed</th>\n",
       "      <th>accidental_deaths_children.csv # Killed</th>\n",
       "      <th>accidental_deaths_teens.csv # Killed</th>\n",
       "      <th>accidental_injuries.csv # Killed</th>\n",
       "    </tr>\n",
       "    <tr>\n",
       "      <th>State</th>\n",
       "      <th></th>\n",
       "      <th></th>\n",
       "      <th></th>\n",
       "      <th></th>\n",
       "    </tr>\n",
       "  </thead>\n",
       "  <tbody>\n",
       "    <tr>\n",
       "      <th>Alabama</th>\n",
       "      <td>14.0</td>\n",
       "      <td>9.0</td>\n",
       "      <td>6.0</td>\n",
       "      <td>0.0</td>\n",
       "    </tr>\n",
       "    <tr>\n",
       "      <th>Alaska</th>\n",
       "      <td>5.0</td>\n",
       "      <td>5.0</td>\n",
       "      <td>1.0</td>\n",
       "      <td>0.0</td>\n",
       "    </tr>\n",
       "    <tr>\n",
       "      <th>Arizona</th>\n",
       "      <td>8.0</td>\n",
       "      <td>4.0</td>\n",
       "      <td>4.0</td>\n",
       "      <td>0.0</td>\n",
       "    </tr>\n",
       "    <tr>\n",
       "      <th>Arkansas</th>\n",
       "      <td>13.0</td>\n",
       "      <td>5.0</td>\n",
       "      <td>4.0</td>\n",
       "      <td>0.0</td>\n",
       "    </tr>\n",
       "    <tr>\n",
       "      <th>California</th>\n",
       "      <td>17.0</td>\n",
       "      <td>4.0</td>\n",
       "      <td>9.0</td>\n",
       "      <td>0.0</td>\n",
       "    </tr>\n",
       "  </tbody>\n",
       "</table>\n",
       "</div>"
      ],
      "text/plain": [
       "            accidental_deaths.csv # Killed  \\\n",
       "State                                        \n",
       "Alabama                               14.0   \n",
       "Alaska                                 5.0   \n",
       "Arizona                                8.0   \n",
       "Arkansas                              13.0   \n",
       "California                            17.0   \n",
       "\n",
       "            accidental_deaths_children.csv # Killed  \\\n",
       "State                                                 \n",
       "Alabama                                         9.0   \n",
       "Alaska                                          5.0   \n",
       "Arizona                                         4.0   \n",
       "Arkansas                                        5.0   \n",
       "California                                      4.0   \n",
       "\n",
       "            accidental_deaths_teens.csv # Killed  \\\n",
       "State                                              \n",
       "Alabama                                      6.0   \n",
       "Alaska                                       1.0   \n",
       "Arizona                                      4.0   \n",
       "Arkansas                                     4.0   \n",
       "California                                   9.0   \n",
       "\n",
       "            accidental_injuries.csv # Killed  \n",
       "State                                         \n",
       "Alabama                                  0.0  \n",
       "Alaska                                   0.0  \n",
       "Arizona                                  0.0  \n",
       "Arkansas                                 0.0  \n",
       "California                               0.0  "
      ]
     },
     "execution_count": 21,
     "metadata": {},
     "output_type": "execute_result"
    }
   ],
   "source": [
    "df.head()"
   ]
  },
  {
   "cell_type": "code",
   "execution_count": 22,
   "metadata": {},
   "outputs": [],
   "source": [
    "values = df.values\n",
    "state = df.index\n",
    "features = values[:,0:]\n",
    "scaler = preprocessing.MinMaxScaler()\n",
    "features = scaler.fit_transform(features)"
   ]
  },
  {
   "cell_type": "code",
   "execution_count": 23,
   "metadata": {},
   "outputs": [],
   "source": [
    "manifold_method = manifold.SpectralEmbedding(n_components=2)\n",
    "projections = manifold_method.fit_transform(features)"
   ]
  },
  {
   "cell_type": "code",
   "execution_count": 24,
   "metadata": {},
   "outputs": [
    {
     "data": {
      "text/plain": [
       "<matplotlib.collections.PathCollection at 0x118314b70>"
      ]
     },
     "execution_count": 24,
     "metadata": {},
     "output_type": "execute_result"
    },
    {
     "data": {
      "image/png": "[encoded data removed]",
      "text/plain": [
       "<matplotlib.figure.Figure at 0x118187748>"
      ]
     },
     "metadata": {},
     "output_type": "display_data"
    }
   ],
   "source": [
    "plt.scatter(projections[:,0], projections[:,1])"
   ]
  },
  {
   "cell_type": "code",
   "execution_count": 38,
   "metadata": {},
   "outputs": [],
   "source": [
    "cluster_method = hdbscan.HDBSCAN(metric='manhattan')\n",
    "clusters = cluster_method.fit_predict(features)\n",
    "clusters = np.array(clusters) + 1"
   ]
  },
  {
   "cell_type": "code",
   "execution_count": 43,
   "metadata": {},
   "outputs": [
    {
     "name": "stdout",
     "output_type": "stream",
     "text": [
      "3\n",
      "[0 0 1 2 0 2 1 0 0 1 1 2 2 2 0 2 0 1 1 1 0 1 0 2 1 1 1 0 1 0 2 1 0 0 1 0 0\n",
      " 1 0 0 1 1 0 1 1 0 1]\n"
     ]
    }
   ],
   "source": [
    "k = max(clusters) + 1\n",
    "print(k)\n",
    "print(clusters)"
   ]
  },
  {
   "cell_type": "code",
   "execution_count": 44,
   "metadata": {},
   "outputs": [],
   "source": [
    "assignments = list(zip(state, clusters))"
   ]
  },
  {
   "cell_type": "code",
   "execution_count": 45,
   "metadata": {},
   "outputs": [],
   "source": [
    "groupings = defaultdict(list)\n",
    "state_g = dict()\n",
    "for s, c in assignments:\n",
    "    groupings[c].append(s)\n",
    "    state_g[s] = c"
   ]
  },
  {
   "cell_type": "code",
   "execution_count": 46,
   "metadata": {},
   "outputs": [
    {
     "name": "stdout",
     "output_type": "stream",
     "text": [
      "defaultdict(<class 'list'>, {0: ['Alabama', 'Alaska', 'California', 'Florida', 'Georgia', 'Kansas', 'Louisiana', 'Michigan', 'Mississippi', 'New Jersey', 'New York', 'Ohio', 'Oklahoma', 'Pennsylvania', 'South Carolina', 'Tennessee', 'Texas', 'Virginia', 'Wisconsin'], 1: ['Arizona', 'Connecticut', 'Hawaii', 'Idaho', 'Maine', 'Maryland', 'Massachusetts', 'Minnesota', 'Montana', 'Nebraska', 'Nevada', 'New Mexico', 'North Dakota', 'Oregon', 'South Dakota', 'Utah', 'Vermont', 'Washington', 'West Virginia', 'Wyoming'], 2: ['Arkansas', 'Colorado', 'Illinois', 'Indiana', 'Iowa', 'Kentucky', 'Missouri', 'North Carolina']})\n"
     ]
    }
   ],
   "source": [
    "print(groupings)"
   ]
  },
  {
   "cell_type": "code",
   "execution_count": 47,
   "metadata": {},
   "outputs": [
    {
     "data": {
      "text/plain": [
       "['Arizona',\n",
       " 'Connecticut',\n",
       " 'Hawaii',\n",
       " 'Idaho',\n",
       " 'Maine',\n",
       " 'Maryland',\n",
       " 'Massachusetts',\n",
       " 'Minnesota',\n",
       " 'Montana',\n",
       " 'Nebraska',\n",
       " 'Nevada',\n",
       " 'New Mexico',\n",
       " 'North Dakota',\n",
       " 'Oregon',\n",
       " 'South Dakota',\n",
       " 'Utah',\n",
       " 'Vermont',\n",
       " 'Washington',\n",
       " 'West Virginia',\n",
       " 'Wyoming']"
      ]
     },
     "execution_count": 47,
     "metadata": {},
     "output_type": "execute_result"
    }
   ],
   "source": [
    "groupings[state_g['Wyoming']]"
   ]
  },
  {
   "cell_type": "code",
   "execution_count": 48,
   "metadata": {},
   "outputs": [],
   "source": [
    "rates_filepath = '../data/rates.csv'\n",
    "rates_df = pd.read_csv(rates_filepath)\n",
    "rates_df.index = rates_df['State']\n",
    "rates_df = rates_df[['FA_Ownership_Rate']]"
   ]
  },
  {
   "cell_type": "code",
   "execution_count": 49,
   "metadata": {},
   "outputs": [
    {
     "data": {
      "text/plain": [
       "0.57799999999999996"
      ]
     },
     "execution_count": 49,
     "metadata": {},
     "output_type": "execute_result"
    }
   ],
   "source": [
    "rates_df.loc['Alaska'].values[0]"
   ]
  },
  {
   "cell_type": "code",
   "execution_count": 50,
   "metadata": {},
   "outputs": [],
   "source": [
    "rates = {}\n",
    "for key, states in groupings.items():\n",
    "    rs = []\n",
    "    for s in states:\n",
    "        r = rates_df.loc[s].values[0]\n",
    "        rs.append(r)\n",
    "    rates[key] = rs"
   ]
  },
  {
   "cell_type": "code",
   "execution_count": 51,
   "metadata": {},
   "outputs": [],
   "source": [
    "p_vals = np.ones(shape=(k, k))\n",
    "from scipy.stats import ttest_ind\n",
    "for i in range(k):\n",
    "    for j in range(k):\n",
    "        if i != j:\n",
    "            x = rates[i]\n",
    "            y = rates[j]\n",
    "            if len(x) == 1:\n",
    "                x = x * 2\n",
    "            if len(y) == 1:\n",
    "                y = y * 2\n",
    "            s, p = ttest_ind(x, y , equal_var=False, nan_policy='raise')\n",
    "            p_vals[i][j] = p\n",
    "        "
   ]
  },
  {
   "cell_type": "code",
   "execution_count": 52,
   "metadata": {},
   "outputs": [
    {
     "data": {
      "text/plain": [
       "array([[ 1.        ,  0.92374372,  0.63421573],\n",
       "       [ 0.92374372,  1.        ,  0.72713403],\n",
       "       [ 0.63421573,  0.72713403,  1.        ]])"
      ]
     },
     "execution_count": 52,
     "metadata": {},
     "output_type": "execute_result"
    }
   ],
   "source": [
    "p_vals"
   ]
  },
  {
   "cell_type": "code",
   "execution_count": 53,
   "metadata": {},
   "outputs": [
    {
     "data": {
      "text/plain": [
       "<matplotlib.axes._subplots.AxesSubplot at 0x1184dcac8>"
      ]
     },
     "execution_count": 53,
     "metadata": {},
     "output_type": "execute_result"
    },
    {
     "data": {
      "image/png": "[encoded data removed]",
      "text/plain": [
       "<matplotlib.figure.Figure at 0x1184ded68>"
      ]
     },
     "metadata": {},
     "output_type": "display_data"
    }
   ],
   "source": [
    "sns.heatmap(1 - p_vals)"
   ]
  },
  {
   "cell_type": "code",
   "execution_count": 54,
   "metadata": {},
   "outputs": [
    {
     "data": {
      "text/plain": [
       "['Alabama',\n",
       " 'Alaska',\n",
       " 'California',\n",
       " 'Florida',\n",
       " 'Georgia',\n",
       " 'Kansas',\n",
       " 'Louisiana',\n",
       " 'Michigan',\n",
       " 'Mississippi',\n",
       " 'New Jersey',\n",
       " 'New York',\n",
       " 'Ohio',\n",
       " 'Oklahoma',\n",
       " 'Pennsylvania',\n",
       " 'South Carolina',\n",
       " 'Tennessee',\n",
       " 'Texas',\n",
       " 'Virginia',\n",
       " 'Wisconsin']"
      ]
     },
     "execution_count": 54,
     "metadata": {},
     "output_type": "execute_result"
    }
   ],
   "source": [
    "groupings[0]"
   ]
  },
  {
   "cell_type": "code",
   "execution_count": 55,
   "metadata": {},
   "outputs": [
    {
     "data": {
      "text/plain": [
       "['Arkansas',\n",
       " 'Colorado',\n",
       " 'Illinois',\n",
       " 'Indiana',\n",
       " 'Iowa',\n",
       " 'Kentucky',\n",
       " 'Missouri',\n",
       " 'North Carolina']"
      ]
     },
     "execution_count": 55,
     "metadata": {},
     "output_type": "execute_result"
    }
   ],
   "source": [
    "groupings[2]"
   ]
  },
  {
   "cell_type": "code",
   "execution_count": null,
   "metadata": {},
   "outputs": [],
   "source": []
  }
 ],
 "metadata": {
  "kernelspec": {
   "display_name": "Python 3",
   "language": "python",
   "name": "python3"
  },
  "language_info": {
   "codemirror_mode": {
    "name": "ipython",
    "version": 3
   },
   "file_extension": ".py",
   "mimetype": "text/x-python",
   "name": "python",
   "nbconvert_exporter": "python",
   "pygments_lexer": "ipython3",
   "version": "3.6.3"
  }
 },
 "nbformat": 4,
 "nbformat_minor": 2
}
