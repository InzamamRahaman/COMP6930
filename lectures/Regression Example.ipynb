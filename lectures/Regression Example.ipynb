{
 "cells": [
  {
   "cell_type": "code",
   "execution_count": 1,
   "metadata": {},
   "outputs": [
    {
     "name": "stdout",
     "output_type": "stream",
     "text": [
      "Populating the interactive namespace from numpy and matplotlib\n"
     ]
    }
   ],
   "source": [
    "%pylab inline\n",
    "import numpy as np\n",
    "import pandas as pd\n",
    "import sklearn.linear_model as linear_model\n",
    "from sklearn.svm import SVR\n",
    "import sklearn.metrics as metrics\n",
    "from sklearn.preprocessing import OneHotEncoder,LabelEncoder\n",
    "from sklearn.model_selection import train_test_split, KFold\n",
    "from skater.core.explanations import Interpretation\n",
    "from skater.model import InMemoryModel\n",
    "pd.options.mode.chained_assignment = None"
   ]
  },
  {
   "cell_type": "code",
   "execution_count": 2,
   "metadata": {},
   "outputs": [
    {
     "name": "stdout",
     "output_type": "stream",
     "text": [
      "Index(['symboling', 'normalized-losses', 'make', 'fuel-type', 'aspiration',\n",
      "       'num-of-doors', 'body-style', 'drive-wheels', 'engine-location',\n",
      "       'wheel-base', 'length', 'width', 'height', 'curb-weight', 'engine-type',\n",
      "       'num-of-cylinders', 'engine-size', 'fuel-system', 'bore', 'stroke',\n",
      "       'compression-ratio', 'horsepower', 'peak-rpm', 'city-mpg',\n",
      "       'highway-mpg', 'price'],\n",
      "      dtype='object')\n"
     ]
    }
   ],
   "source": [
    "filename = 'car_data.csv'\n",
    "df = pd.read_csv(filename)\n",
    "print(df.columns)\n"
   ]
  },
  {
   "cell_type": "code",
   "execution_count": 3,
   "metadata": {},
   "outputs": [
    {
     "name": "stdout",
     "output_type": "stream",
     "text": [
      "<class 'pandas.core.frame.DataFrame'>\n",
      "RangeIndex: 205 entries, 0 to 204\n",
      "Data columns (total 26 columns):\n",
      "symboling            205 non-null int64\n",
      "normalized-losses    205 non-null object\n",
      "make                 205 non-null object\n",
      "fuel-type            205 non-null object\n",
      "aspiration           205 non-null object\n",
      "num-of-doors         205 non-null object\n",
      "body-style           205 non-null object\n",
      "drive-wheels         205 non-null object\n",
      "engine-location      205 non-null object\n",
      "wheel-base           205 non-null float64\n",
      "length               205 non-null float64\n",
      "width                205 non-null float64\n",
      "height               205 non-null float64\n",
      "curb-weight          205 non-null int64\n",
      "engine-type          205 non-null object\n",
      "num-of-cylinders     205 non-null object\n",
      "engine-size          205 non-null int64\n",
      "fuel-system          205 non-null object\n",
      "bore                 205 non-null object\n",
      "stroke               205 non-null object\n",
      "compression-ratio    205 non-null float64\n",
      "horsepower           205 non-null object\n",
      "peak-rpm             205 non-null object\n",
      "city-mpg             205 non-null int64\n",
      "highway-mpg          205 non-null int64\n",
      "price                205 non-null object\n",
      "dtypes: float64(5), int64(5), object(16)\n",
      "memory usage: 41.7+ KB\n"
     ]
    }
   ],
   "source": [
    "df.info()"
   ]
  },
  {
   "cell_type": "code",
   "execution_count": 4,
   "metadata": {},
   "outputs": [
    {
     "name": "stdout",
     "output_type": "stream",
     "text": [
      "{'eight', 'two', 'four', 'five', 'twelve', 'six', 'three'}\n",
      "{'?', 'two', 'four'}\n"
     ]
    }
   ],
   "source": [
    "print(set(df['num-of-cylinders']))\n",
    "print(set(df['num-of-doors']))"
   ]
  },
  {
   "cell_type": "code",
   "execution_count": 5,
   "metadata": {
    "collapsed": true
   },
   "outputs": [],
   "source": [
    " # get all columns but symboling and normalized-losses\n",
    "df = df.loc[:, (df.columns != 'symboling') & (df.columns != 'normalized-losses')]\n",
    "\n",
    "# get all rows without missing data\n",
    "valid = df.select_dtypes(include=['object']) != '?'\n",
    "valid_idx = (valid).all(axis=1)\n",
    "\n",
    "# get valid row and separate out columns as necessary\n",
    "\n",
    "def numstr2int(st):\n",
    "    mappings = {'twelve':12, 'four':4, 'two':2, 'five':5, 'six':6, 'eight':8, 'three':3}\n",
    "    return mappings[st]\n",
    "\n",
    "df = df.loc[valid_idx]\n",
    "df['price'] = df['price'].apply(lambda x: float(x))\n",
    "df['num-of-doors'] = df['num-of-doors'].apply(numstr2int)\n",
    "df['peak-rpm'] = df['peak-rpm'].apply(lambda x: int(x))\n",
    "df['horsepower'] = df['horsepower'].apply(lambda x: int(x))\n",
    "df['stroke'] = df['stroke'].apply(lambda x: float(x))\n",
    "df['bore'] = df['bore'].apply(lambda x: float(x))\n",
    "df['num-of-cylinders'] = df['num-of-cylinders'].apply(numstr2int)\n",
    "target = df['price']\n",
    "\n",
    "inputs = df.loc[:, :'highway-mpg']"
   ]
  },
  {
   "cell_type": "code",
   "execution_count": 6,
   "metadata": {},
   "outputs": [
    {
     "name": "stdout",
     "output_type": "stream",
     "text": [
      "<class 'pandas.core.frame.DataFrame'>\n",
      "Int64Index: 193 entries, 0 to 204\n",
      "Data columns (total 23 columns):\n",
      "make                 193 non-null object\n",
      "fuel-type            193 non-null object\n",
      "aspiration           193 non-null object\n",
      "num-of-doors         193 non-null int64\n",
      "body-style           193 non-null object\n",
      "drive-wheels         193 non-null object\n",
      "engine-location      193 non-null object\n",
      "wheel-base           193 non-null float64\n",
      "length               193 non-null float64\n",
      "width                193 non-null float64\n",
      "height               193 non-null float64\n",
      "curb-weight          193 non-null int64\n",
      "engine-type          193 non-null object\n",
      "num-of-cylinders     193 non-null int64\n",
      "engine-size          193 non-null int64\n",
      "fuel-system          193 non-null object\n",
      "bore                 193 non-null float64\n",
      "stroke               193 non-null float64\n",
      "compression-ratio    193 non-null float64\n",
      "horsepower           193 non-null int64\n",
      "peak-rpm             193 non-null int64\n",
      "city-mpg             193 non-null int64\n",
      "highway-mpg          193 non-null int64\n",
      "dtypes: float64(7), int64(8), object(8)\n",
      "memory usage: 36.2+ KB\n"
     ]
    }
   ],
   "source": [
    "inputs.info()"
   ]
  },
  {
   "cell_type": "code",
   "execution_count": 7,
   "metadata": {},
   "outputs": [
    {
     "name": "stdout",
     "output_type": "stream",
     "text": [
      "handling make\n",
      "handling fuel-type\n",
      "handling aspiration\n",
      "handling body-style\n",
      "handling drive-wheels\n",
      "handling engine-location\n",
      "handling engine-type\n",
      "handling fuel-system\n"
     ]
    }
   ],
   "source": [
    "columns_to_encode = ['make', 'fuel-type','aspiration', 'body-style','drive-wheels',\n",
    "                     'engine-location','engine-type','fuel-system']\n",
    "for col in columns_to_encode:\n",
    "    print(f'handling {col}')\n",
    "    dummy = pd.get_dummies(df[col])\n",
    "    #print(dummy)\n",
    "    inputs = inputs.join(dummy)\n",
    "inputs = inputs.drop(columns_to_encode, axis=1)"
   ]
  },
  {
   "cell_type": "code",
   "execution_count": 8,
   "metadata": {
    "collapsed": true
   },
   "outputs": [],
   "source": [
    "X = inputs.values\n",
    "y = target.values"
   ]
  },
  {
   "cell_type": "code",
   "execution_count": 29,
   "metadata": {},
   "outputs": [
    {
     "data": {
      "text/plain": [
       "5"
      ]
     },
     "execution_count": 29,
     "metadata": {},
     "output_type": "execute_result"
    }
   ],
   "source": [
    "k_fold = KFold(n_splits=5)\n",
    "k_fold.get_n_splits(X)"
   ]
  },
  {
   "cell_type": "code",
   "execution_count": 30,
   "metadata": {
    "scrolled": true
   },
   "outputs": [
    {
     "name": "stdout",
     "output_type": "stream",
     "text": [
      "26.2043705679\n",
      "3.72178084313\n",
      "[30.701718229446694, 19.402018500508067, 27.443328902582827, 27.310494255949571, 26.164292951097408]\n"
     ]
    }
   ],
   "source": [
    "errors = []\n",
    "for train_idx, test_idx in k_fold.split(X):\n",
    "    train_X, test_X = X[train_idx], X[test_idx]\n",
    "    train_y, test_y = y[train_idx], y[test_idx]\n",
    "    lr = linear_model.Ridge()\n",
    "    lr.fit(train_X, train_y)\n",
    "    predictions = lr.predict(test_X)\n",
    "    error = np.mean(np.abs(predictions - test_y)/test_y * 100) # mean average percentage error\n",
    "    errors.append(error)\n",
    "print(np.mean(errors))\n",
    "print(np.std(errors))\n",
    "print(errors)\n",
    "        "
   ]
  },
  {
   "cell_type": "code",
   "execution_count": 31,
   "metadata": {},
   "outputs": [
    {
     "data": {
      "text/plain": [
       "array([ -4.87501547e+00,   1.70720135e+02,  -5.47574935e+01,\n",
       "         4.83752229e+02,   1.48626537e+01,   2.99293844e+00,\n",
       "        -1.72486140e+02,   1.15286934e+02,  -2.33845178e+03,\n",
       "        -5.55159947e+02,  -1.17852221e+02,   3.52883486e+01,\n",
       "         1.63860799e+00,  -2.53173677e+01,   2.25507668e+02,\n",
       "        -2.87915101e+01,   1.06854559e+03,   4.20564457e+03,\n",
       "        -1.86103701e+02,  -1.23501754e+03,  -4.48129214e+01,\n",
       "        -6.42976167e+02,  -1.97667070e+03,   1.29419027e+02,\n",
       "         3.80702541e+03,  -1.66883235e+03,  -1.74870054e+03,\n",
       "        -1.04872978e+03,  -2.08809893e+03,  -1.53157005e+03,\n",
       "         2.38218165e+03,   1.27407588e+03,  -4.68519584e+02,\n",
       "        -1.98068350e+02,   0.00000000e+00,   0.00000000e+00,\n",
       "         2.39472045e+02,  -2.39472045e+02,  -3.20120428e+02,\n",
       "         3.20120428e+02,   2.52433251e+03,   1.21244181e+03,\n",
       "        -1.48794515e+03,  -9.60514926e+02,  -1.28831424e+03,\n",
       "         3.23191890e+02,  -1.03312442e+03,   7.09932529e+02,\n",
       "        -1.83814491e+03,   1.83814491e+03,   3.16773357e+02,\n",
       "         7.05384039e+02,   1.00131045e+03,   1.36962533e+03,\n",
       "        -3.39309317e+03,  -8.29963724e+02,   4.22593172e+02,\n",
       "         2.39472045e+02,  -8.02300471e+02,   1.12247268e+03,\n",
       "        -2.39608088e+02,   8.73343848e+01])"
      ]
     },
     "execution_count": 31,
     "metadata": {},
     "output_type": "execute_result"
    }
   ],
   "source": [
    "lr.coef_"
   ]
  },
  {
   "cell_type": "code",
   "execution_count": 32,
   "metadata": {
    "collapsed": true
   },
   "outputs": [],
   "source": [
    "model = InMemoryModel(lr.predict, examples = X)"
   ]
  },
  {
   "cell_type": "code",
   "execution_count": 33,
   "metadata": {
    "collapsed": true
   },
   "outputs": [],
   "source": [
    "interpreter = Interpretation(X, feature_names=inputs.columns)"
   ]
  },
  {
   "cell_type": "code",
   "execution_count": 34,
   "metadata": {},
   "outputs": [
    {
     "name": "stdout",
     "output_type": "stream",
     "text": [
      "[62/62] features ████████████████████ Time elapsed: 1 seconds"
     ]
    },
    {
     "data": {
      "text/plain": [
       "(<matplotlib.figure.Figure at 0x115d36358>,\n",
       " <matplotlib.axes._subplots.AxesSubplot at 0x11663aa20>)"
      ]
     },
     "execution_count": 34,
     "metadata": {},
     "output_type": "execute_result"
    },
    {
     "data": {
      "image/png": "[encoded data removed]",
      "text/plain": [
       "<matplotlib.figure.Figure at 0x115d36358>"
      ]
     },
     "metadata": {},
     "output_type": "display_data"
    }
   ],
   "source": [
    "matplotlib.rcParams['figure.figsize'] = [10, 10]\n",
    "interpreter.feature_importance.plot_feature_importance(model)"
   ]
  },
  {
   "cell_type": "code",
   "execution_count": null,
   "metadata": {
    "collapsed": true
   },
   "outputs": [],
   "source": []
  }
 ],
 "metadata": {
  "kernelspec": {
   "display_name": "Python 3",
   "language": "python",
   "name": "python3"
  },
  "language_info": {
   "codemirror_mode": {
    "name": "ipython",
    "version": 3
   },
   "file_extension": ".py",
   "mimetype": "text/x-python",
   "name": "python",
   "nbconvert_exporter": "python",
   "pygments_lexer": "ipython3",
   "version": "3.6.3"
  }
 },
 "nbformat": 4,
 "nbformat_minor": 2
}
