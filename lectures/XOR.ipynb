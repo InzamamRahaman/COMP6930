{
 "cells": [
  {
   "cell_type": "code",
   "execution_count": 1,
   "metadata": {},
   "outputs": [
    {
     "name": "stdout",
     "output_type": "stream",
     "text": [
      "Populating the interactive namespace from numpy and matplotlib\n"
     ]
    }
   ],
   "source": [
    "%pylab inline"
   ]
  },
  {
   "cell_type": "code",
   "execution_count": 2,
   "metadata": {},
   "outputs": [],
   "source": [
    "import numpy as np\n",
    "import torch as th\n",
    "import torch.nn as nn\n",
    "import torch.nn.init as init\n",
    "import torch.optim as optim\n",
    "from torch.autograd import Variable"
   ]
  },
  {
   "cell_type": "code",
   "execution_count": 3,
   "metadata": {},
   "outputs": [],
   "source": [
    "def plot_classification(ax, x, y, colors, legend):\n",
    "    color_set = set(colors)\n",
    "    for color in color_set:\n",
    "        x_curr = []\n",
    "        y_curr = []\n",
    "        for i, c in enumerate(colors):\n",
    "            if c == color:\n",
    "                x_curr.append(x[i])\n",
    "                y_curr.append(y[i])\n",
    "        ax.scatter(x_curr, y_curr, c=color,label=legend[color])\n",
    "\n",
    "legend = {'red': 0, 'blue': 1}\n",
    "\n",
    "def color_mapping(cl):\n",
    "    colors = ['red', 'blue', 'green']\n",
    "    return colors[cl]\n",
    "color_mapper = np.vectorize(color_mapping)"
   ]
  },
  {
   "cell_type": "code",
   "execution_count": 4,
   "metadata": {},
   "outputs": [],
   "source": [
    "class LogisticRegression(nn.Module):\n",
    "    def __init__(self, n_inputs, n_classes=2, bias=True):\n",
    "        super().__init__()\n",
    "        self.weights = nn.Linear(n_inputs, n_classes, bias=bias)\n",
    "        init.xavier_uniform(self.weights.weight)\n",
    "        #self.act_fun = nn.Sigmoid()\n",
    "    \n",
    "    def forward(self, x):\n",
    "        x = self.weights(x)\n",
    "        #x = self.act_fun(x)\n",
    "        return x\n",
    "    \n",
    "def class_probs_to_class(arr):\n",
    "    return np.argmax(arr, axis=1)"
   ]
  },
  {
   "cell_type": "code",
   "execution_count": 5,
   "metadata": {},
   "outputs": [],
   "source": [
    "xor_x = np.array([[0,0], [0,1], [1,0], [1,1]])\n",
    "xor_y = np.array([0, 1, 1, 0])"
   ]
  },
  {
   "cell_type": "code",
   "execution_count": 6,
   "metadata": {},
   "outputs": [],
   "source": [
    "xor_colors = color_mapper(xor_y)"
   ]
  },
  {
   "cell_type": "code",
   "execution_count": 38,
   "metadata": {},
   "outputs": [
    {
     "data": {
      "image/png": "[encoded data removed]",
      "text/plain": [
       "<matplotlib.figure.Figure at 0x111f94c50>"
      ]
     },
     "metadata": {},
     "output_type": "display_data"
    }
   ],
   "source": [
    "fig, ax = plt.subplots()\n",
    "plot_classification(ax, xor_x[:,0], xor_x[:,1], xor_colors, legend)"
   ]
  },
  {
   "cell_type": "code",
   "execution_count": 58,
   "metadata": {},
   "outputs": [],
   "source": [
    "clf = LogisticRegression(2)\n",
    "epochs = 100\n",
    "lr = 0.5"
   ]
  },
  {
   "cell_type": "code",
   "execution_count": 59,
   "metadata": {},
   "outputs": [],
   "source": [
    "optimizer = optim.Adam(clf.parameters(),lr=lr)\n",
    "criterion = nn.CrossEntropyLoss()"
   ]
  },
  {
   "cell_type": "code",
   "execution_count": 60,
   "metadata": {},
   "outputs": [
    {
     "name": "stdout",
     "output_type": "stream",
     "text": [
      "Loss at iteration 1 is 0.7430129051208496\n",
      "Loss at iteration 2 is 1.0231505632400513\n",
      "Loss at iteration 3 is 0.7547588348388672\n",
      "Loss at iteration 4 is 0.7483731508255005\n",
      "Loss at iteration 5 is 0.8475409746170044\n",
      "Loss at iteration 6 is 0.793520987033844\n",
      "Loss at iteration 7 is 0.7056830525398254\n",
      "Loss at iteration 8 is 0.7181946039199829\n",
      "Loss at iteration 9 is 0.7769285440444946\n",
      "Loss at iteration 10 is 0.7761093974113464\n",
      "Loss at iteration 11 is 0.7271103858947754\n",
      "Loss at iteration 12 is 0.6980844736099243\n",
      "Loss at iteration 13 is 0.7191073298454285\n",
      "Loss at iteration 14 is 0.7442410588264465\n",
      "Loss at iteration 15 is 0.7338568568229675\n",
      "Loss at iteration 16 is 0.704332709312439\n",
      "Loss at iteration 17 is 0.6946121454238892\n",
      "Loss at iteration 18 is 0.7117685079574585\n",
      "Loss at iteration 19 is 0.7253385186195374\n",
      "Loss at iteration 20 is 0.7165505886077881\n",
      "Loss at iteration 21 is 0.6993238925933838\n",
      "Loss at iteration 22 is 0.6963769793510437\n",
      "Loss at iteration 23 is 0.7073916792869568\n",
      "Loss at iteration 24 is 0.7127220630645752\n",
      "Loss at iteration 25 is 0.7042661309242249\n",
      "Loss at iteration 26 is 0.6942590475082397\n",
      "Loss at iteration 27 is 0.6955586671829224\n",
      "Loss at iteration 28 is 0.7033207416534424\n",
      "Loss at iteration 29 is 0.7045581936836243\n",
      "Loss at iteration 30 is 0.6980576515197754\n",
      "Loss at iteration 31 is 0.6939617395401001\n",
      "Loss at iteration 32 is 0.6972895860671997\n",
      "Loss at iteration 33 is 0.7011784315109253\n",
      "Loss at iteration 34 is 0.6990246772766113\n",
      "Loss at iteration 35 is 0.6942843198776245\n",
      "Loss at iteration 36 is 0.6938058137893677\n",
      "Loss at iteration 37 is 0.6969414949417114\n",
      "Loss at iteration 38 is 0.6977038979530334\n",
      "Loss at iteration 39 is 0.694945216178894\n",
      "Loss at iteration 40 is 0.6933304071426392\n",
      "Loss at iteration 41 is 0.6950230598449707\n",
      "Loss at iteration 42 is 0.6965393424034119\n",
      "Loss at iteration 43 is 0.6952316761016846\n",
      "Loss at iteration 44 is 0.693435549736023\n",
      "Loss at iteration 45 is 0.6938820481300354\n",
      "Loss at iteration 46 is 0.695143461227417\n",
      "Loss at iteration 47 is 0.6947070360183716\n",
      "Loss at iteration 48 is 0.6933900117874146\n",
      "Loss at iteration 49 is 0.6934260129928589\n",
      "Loss at iteration 50 is 0.6944059133529663\n",
      "Loss at iteration 51 is 0.6943801641464233\n",
      "Loss at iteration 52 is 0.6934733986854553\n",
      "Loss at iteration 53 is 0.6933179497718811\n",
      "Loss at iteration 54 is 0.6939336061477661\n",
      "Loss at iteration 55 is 0.6939622163772583\n",
      "Loss at iteration 56 is 0.6933391094207764\n",
      "Loss at iteration 57 is 0.6932095289230347\n",
      "Loss at iteration 58 is 0.6936541795730591\n",
      "Loss at iteration 59 is 0.6937095522880554\n",
      "Loss at iteration 60 is 0.6933044195175171\n",
      "Loss at iteration 61 is 0.6932334899902344\n",
      "Loss at iteration 62 is 0.6935237646102905\n",
      "Loss at iteration 63 is 0.693509578704834\n",
      "Loss at iteration 64 is 0.6932131052017212\n",
      "Loss at iteration 65 is 0.6931952238082886\n",
      "Loss at iteration 66 is 0.693397045135498\n",
      "Loss at iteration 67 is 0.6933589577674866\n",
      "Loss at iteration 68 is 0.6931777000427246\n",
      "Loss at iteration 69 is 0.6932185888290405\n",
      "Loss at iteration 70 is 0.6933469176292419\n",
      "Loss at iteration 71 is 0.6932744979858398\n",
      "Loss at iteration 72 is 0.6931583285331726\n",
      "Loss at iteration 73 is 0.6932138204574585\n",
      "Loss at iteration 74 is 0.6932754516601562\n",
      "Loss at iteration 75 is 0.6931989192962646\n",
      "Loss at iteration 76 is 0.693151593208313\n",
      "Loss at iteration 77 is 0.6932163238525391\n",
      "Loss at iteration 78 is 0.6932327747344971\n",
      "Loss at iteration 79 is 0.6931681632995605\n",
      "Loss at iteration 80 is 0.6931622624397278\n",
      "Loss at iteration 81 is 0.6932064890861511\n",
      "Loss at iteration 82 is 0.6931886076927185\n",
      "Loss at iteration 83 is 0.6931488513946533\n",
      "Loss at iteration 84 is 0.693169116973877\n",
      "Loss at iteration 85 is 0.6931910514831543\n",
      "Loss at iteration 86 is 0.6931642293930054\n",
      "Loss at iteration 87 is 0.6931517124176025\n",
      "Loss at iteration 88 is 0.6931738257408142\n",
      "Loss at iteration 89 is 0.6931713819503784\n",
      "Loss at iteration 90 is 0.6931490898132324\n",
      "Loss at iteration 91 is 0.6931551098823547\n",
      "Loss at iteration 92 is 0.6931678652763367\n",
      "Loss at iteration 93 is 0.6931560039520264\n",
      "Loss at iteration 94 is 0.6931490898132324\n",
      "Loss at iteration 95 is 0.693160355091095\n",
      "Loss at iteration 96 is 0.6931596398353577\n",
      "Loss at iteration 97 is 0.6931484937667847\n",
      "Loss at iteration 98 is 0.6931516528129578\n",
      "Loss at iteration 99 is 0.6931571960449219\n",
      "Loss at iteration 100 is 0.6931504607200623\n"
     ]
    }
   ],
   "source": [
    "for it in range(epochs):\n",
    "    inputs = Variable(th.FloatTensor(xor_x))\n",
    "    labels = Variable(th.LongTensor(xor_y))\n",
    "    \n",
    "    optimizer.zero_grad()\n",
    "    output = clf(inputs)\n",
    "    loss = criterion(output, labels)\n",
    "    print(f'Loss at iteration {it + 1} is {loss.data[0]}')\n",
    "    loss.backward()\n",
    "    optimizer.step()"
   ]
  },
  {
   "cell_type": "code",
   "execution_count": 61,
   "metadata": {},
   "outputs": [
    {
     "name": "stdout",
     "output_type": "stream",
     "text": [
      "[[-0.08431352 -0.08619165]\n",
      " [-0.64577556 -0.64925641]\n",
      " [ 0.50523698  0.49933845]\n",
      " [-0.05622507 -0.0637263 ]]\n",
      "[0 0 0 0]\n"
     ]
    },
    {
     "data": {
      "image/png": "[encoded data removed]",
      "text/plain": [
       "<matplotlib.figure.Figure at 0x1121ce550>"
      ]
     },
     "metadata": {},
     "output_type": "display_data"
    }
   ],
   "source": [
    "fig, ax = plt.subplots()\n",
    "predicted_classes = class_probs_to_class(output.data.numpy())\n",
    "print(output.data.numpy())\n",
    "print(predicted_classes)\n",
    "plot_classification(ax, xor_x[:,0], xor_x[:,1], color_mapper(predicted_classes), legend)"
   ]
  },
  {
   "cell_type": "code",
   "execution_count": 77,
   "metadata": {},
   "outputs": [],
   "source": [
    "class XORNetwork(nn.Module):\n",
    "    def __init__(self):\n",
    "        super().__init__()\n",
    "        self.l1 = nn.Linear(2, 4, bias=True)\n",
    "        self.t1 = nn.PReLU()\n",
    "        self.lend = nn.Linear(4, 2, bias=True)\n",
    "    \n",
    "    def get_inter(self, x):\n",
    "        x = self.l1(x)\n",
    "        x = self.t1(x)\n",
    "        return x\n",
    "    \n",
    "    def forward(self, x):\n",
    "        x = self.get_inter(x)\n",
    "        x = self.lend(x)\n",
    "        return x\n",
    "        \n",
    "        "
   ]
  },
  {
   "cell_type": "code",
   "execution_count": 78,
   "metadata": {},
   "outputs": [],
   "source": [
    "clf = XORNetwork()\n",
    "epochs = 100\n",
    "lr = 0.5"
   ]
  },
  {
   "cell_type": "code",
   "execution_count": 79,
   "metadata": {},
   "outputs": [],
   "source": [
    "optimizer = optim.Adam(clf.parameters(),lr=lr)\n",
    "criterion = nn.CrossEntropyLoss()"
   ]
  },
  {
   "cell_type": "code",
   "execution_count": 80,
   "metadata": {},
   "outputs": [
    {
     "name": "stdout",
     "output_type": "stream",
     "text": [
      "Loss at iteration 1 is 0.7197037935256958\n",
      "Loss at iteration 2 is 0.8461862802505493\n",
      "Loss at iteration 3 is 0.9585092663764954\n",
      "Loss at iteration 4 is 0.7246178984642029\n",
      "Loss at iteration 5 is 0.7607365846633911\n",
      "Loss at iteration 6 is 0.7457866072654724\n",
      "Loss at iteration 7 is 0.7330963611602783\n",
      "Loss at iteration 8 is 0.7060040235519409\n",
      "Loss at iteration 9 is 0.7495607137680054\n",
      "Loss at iteration 10 is 0.7413415908813477\n",
      "Loss at iteration 11 is 0.7441181540489197\n",
      "Loss at iteration 12 is 0.694357693195343\n",
      "Loss at iteration 13 is 0.7085803747177124\n",
      "Loss at iteration 14 is 0.6580329537391663\n",
      "Loss at iteration 15 is 0.6233940124511719\n",
      "Loss at iteration 16 is 0.5988852977752686\n",
      "Loss at iteration 17 is 0.5376971960067749\n",
      "Loss at iteration 18 is 0.4747830033302307\n",
      "Loss at iteration 19 is 0.405376672744751\n",
      "Loss at iteration 20 is 0.2738063931465149\n",
      "Loss at iteration 21 is 0.1449320912361145\n",
      "Loss at iteration 22 is 0.05140278488397598\n",
      "Loss at iteration 23 is 0.022396648302674294\n",
      "Loss at iteration 24 is 0.006775977090001106\n",
      "Loss at iteration 25 is 0.0032893898896872997\n",
      "Loss at iteration 26 is 0.0017214528052136302\n",
      "Loss at iteration 27 is 0.0008108651963993907\n",
      "Loss at iteration 28 is 0.00036950051435269415\n",
      "Loss at iteration 29 is 0.0001730358344502747\n",
      "Loss at iteration 30 is 8.475709182675928e-05\n",
      "Loss at iteration 31 is 4.331512172939256e-05\n",
      "Loss at iteration 32 is 2.2955726308282465e-05\n",
      "Loss at iteration 33 is 1.2562943084049039e-05\n",
      "Loss at iteration 34 is 7.0848932409717236e-06\n",
      "Loss at iteration 35 is 4.1141165638691746e-06\n",
      "Loss at iteration 36 is 2.459381903463509e-06\n",
      "Loss at iteration 37 is 1.5133374517972698e-06\n",
      "Loss at iteration 38 is 9.583304745319765e-07\n",
      "Loss at iteration 39 is 6.242991048566182e-07\n",
      "Loss at iteration 40 is 4.1812356244008697e-07\n",
      "Loss at iteration 41 is 2.8767874482582556e-07\n",
      "Loss at iteration 42 is 2.0313716220243805e-07\n",
      "Loss at iteration 43 is 1.4705570094974973e-07\n",
      "Loss at iteration 44 is 1.0901349156711149e-07\n",
      "Loss at iteration 45 is 8.265200079904389e-08\n",
      "Loss at iteration 46 is 6.40112745031729e-08\n",
      "Loss at iteration 47 is 5.0575653887108274e-08\n",
      "Loss at iteration 48 is 4.07158822213205e-08\n",
      "Loss at iteration 49 is 3.3357139272993663e-08\n",
      "Loss at iteration 50 is 2.7777813826901365e-08\n",
      "Loss at iteration 51 is 2.34850148217447e-08\n",
      "Loss at iteration 52 is 2.0136766920586524e-08\n",
      "Loss at iteration 53 is 1.7491874615416236e-08\n",
      "Loss at iteration 54 is 1.537812011065398e-08\n",
      "Loss at iteration 55 is 1.3670456766590178e-08\n",
      "Loss at iteration 56 is 1.2277051375519932e-08\n",
      "Loss at iteration 57 is 1.112958436522149e-08\n",
      "Loss at iteration 58 is 1.0176755438351393e-08\n",
      "Loss at iteration 59 is 9.379311549650993e-09\n",
      "Loss at iteration 60 is 8.707256249351758e-09\n",
      "Loss at iteration 61 is 8.137124751783631e-09\n",
      "Loss at iteration 62 is 7.650626798749727e-09\n",
      "Loss at iteration 63 is 7.233232679482171e-09\n",
      "Loss at iteration 64 is 6.873337454749162e-09\n",
      "Loss at iteration 65 is 6.561647669656168e-09\n",
      "Loss at iteration 66 is 6.290559628752135e-09\n",
      "Loss at iteration 67 is 6.053945345030343e-09\n",
      "Loss at iteration 68 is 5.846675588117023e-09\n",
      "Loss at iteration 69 is 5.664575475350375e-09\n",
      "Loss at iteration 70 is 5.504139810597053e-09\n",
      "Loss at iteration 71 is 5.3623909757050114e-09\n",
      "Loss at iteration 72 is 5.236897582250322e-09\n",
      "Loss at iteration 73 is 5.12553866016674e-09\n",
      "Loss at iteration 74 is 5.026543181685383e-09\n",
      "Loss at iteration 75 is 4.938396358511454e-09\n",
      "Loss at iteration 76 is 4.859784574762216e-09\n",
      "Loss at iteration 77 is 4.789559859830206e-09\n",
      "Loss at iteration 78 is 4.726753211059531e-09\n",
      "Loss at iteration 79 is 4.670518638505428e-09\n",
      "Loss at iteration 80 is 4.620111848652186e-09\n",
      "Loss at iteration 81 is 4.5748871357886856e-09\n",
      "Loss at iteration 82 is 4.5342689602989594e-09\n",
      "Loss at iteration 83 is 4.497783478996098e-09\n",
      "Loss at iteration 84 is 4.4649528518903026e-09\n",
      "Loss at iteration 85 is 4.435404488134509e-09\n",
      "Loss at iteration 86 is 4.4087995476616015e-09\n",
      "Loss at iteration 87 is 4.38484404341466e-09\n",
      "Loss at iteration 88 is 4.363240435623084e-09\n",
      "Loss at iteration 89 is 4.34376179470064e-09\n",
      "Loss at iteration 90 is 4.326177194258207e-09\n",
      "Loss at iteration 91 is 4.31032232128814e-09\n",
      "Loss at iteration 92 is 4.296000000181266e-09\n",
      "Loss at iteration 93 is 4.283063681498334e-09\n",
      "Loss at iteration 94 is 4.271387687992956e-09\n",
      "Loss at iteration 95 is 4.260816144352475e-09\n",
      "Loss at iteration 96 is 4.251266894073069e-09\n",
      "Loss at iteration 97 is 4.242629358941485e-09\n",
      "Loss at iteration 98 is 4.234824046989161e-09\n",
      "Loss at iteration 99 is 4.227758587660446e-09\n",
      "Loss at iteration 100 is 4.221365035306235e-09\n"
     ]
    }
   ],
   "source": [
    "for it in range(epochs):\n",
    "    inputs = Variable(th.FloatTensor(xor_x))\n",
    "    labels = Variable(th.LongTensor(xor_y))\n",
    "    \n",
    "    optimizer.zero_grad()\n",
    "    output = clf(inputs)\n",
    "    loss = criterion(output, labels)\n",
    "    print(f'Loss at iteration {it + 1} is {loss.data[0]}')\n",
    "    loss.backward()\n",
    "    optimizer.step()"
   ]
  },
  {
   "cell_type": "code",
   "execution_count": 81,
   "metadata": {},
   "outputs": [
    {
     "name": "stdout",
     "output_type": "stream",
     "text": [
      "[[  9.76584244  -8.13430405]\n",
      " [-10.51179886  13.19651031]\n",
      " [-18.42449379  24.77241516]\n",
      " [ 14.08810711 -11.81001663]]\n",
      "[0 1 1 0]\n"
     ]
    },
    {
     "data": {
      "image/png": "[encoded data removed]",
      "text/plain": [
       "<matplotlib.figure.Figure at 0x111fc2668>"
      ]
     },
     "metadata": {},
     "output_type": "display_data"
    }
   ],
   "source": [
    "fig, ax = plt.subplots()\n",
    "predicted_classes = class_probs_to_class(output.data.numpy())\n",
    "print(output.data.numpy())\n",
    "print(predicted_classes)\n",
    "plot_classification(ax, xor_x[:,0], xor_x[:,1], color_mapper(predicted_classes), legend)"
   ]
  },
  {
   "cell_type": "code",
   "execution_count": 82,
   "metadata": {},
   "outputs": [],
   "source": [
    "intermediate = clf.get_inter(inputs)"
   ]
  },
  {
   "cell_type": "code",
   "execution_count": 83,
   "metadata": {},
   "outputs": [],
   "source": [
    "from sklearn.manifold import TSNE\n",
    "intermediate = intermediate.data.numpy()\n",
    "tsne = TSNE(n_components=2)\n",
    "projection = tsne.fit_transform(intermediate)\n"
   ]
  },
  {
   "cell_type": "code",
   "execution_count": 84,
   "metadata": {},
   "outputs": [
    {
     "data": {
      "image/png": "[encoded data removed]",
      "text/plain": [
       "<matplotlib.figure.Figure at 0x1a174be470>"
      ]
     },
     "metadata": {},
     "output_type": "display_data"
    }
   ],
   "source": [
    "fig, ax = plt.subplots()\n",
    "plot_classification(ax, projection[:,0], projection[:,1], color_mapper(predicted_classes), legend)"
   ]
  },
  {
   "cell_type": "code",
   "execution_count": null,
   "metadata": {},
   "outputs": [],
   "source": []
  }
 ],
 "metadata": {
  "kernelspec": {
   "display_name": "Python 3",
   "language": "python",
   "name": "python3"
  },
  "language_info": {
   "codemirror_mode": {
    "name": "ipython",
    "version": 3
   },
   "file_extension": ".py",
   "mimetype": "text/x-python",
   "name": "python",
   "nbconvert_exporter": "python",
   "pygments_lexer": "ipython3",
   "version": "3.6.3"
  }
 },
 "nbformat": 4,
 "nbformat_minor": 2
}
