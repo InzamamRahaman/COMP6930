{
 "cells": [
  {
   "cell_type": "code",
   "execution_count": 3,
   "metadata": {},
   "outputs": [
    {
     "name": "stdout",
     "output_type": "stream",
     "text": [
      "Populating the interactive namespace from numpy and matplotlib\n"
     ]
    }
   ],
   "source": [
    "%pylab inline"
   ]
  },
  {
   "cell_type": "code",
   "execution_count": 4,
   "metadata": {},
   "outputs": [],
   "source": [
    "import numpy as np\n",
    "import torch as th\n",
    "import torch.nn as nn\n",
    "import torch.nn.init as init\n",
    "from torch.autograd import Variable\n",
    "import torchvision.datasets as dset\n",
    "import torchvision.transforms as transforms\n",
    "import torch.nn.functional as F\n",
    "import torch.optim as optim\n",
    "\n",
    "import sklearn.metrics as metrics\n",
    "from sklearn.model_selection import train_test_split"
   ]
  },
  {
   "cell_type": "code",
   "execution_count": 5,
   "metadata": {},
   "outputs": [],
   "source": [
    "root = './data'\n",
    "download = False # download MNIST dataset or not\n",
    "trans = transforms.Compose([transforms.ToTensor(), transforms.Normalize((0.5,), (1.0,))])\n",
    "train_set = dset.MNIST(root=root, train=True, transform=trans, download=download)\n",
    "test_set = dset.MNIST(root=root, train=False, transform=trans)\n",
    "\n",
    "batch_size = 100\n",
    "\n",
    "train_loader = th.utils.data.DataLoader(\n",
    "                 dataset=train_set,\n",
    "                 batch_size=batch_size,\n",
    "                 shuffle=True)\n",
    "test_loader = th.utils.data.DataLoader(\n",
    "                dataset=test_set,\n",
    "                batch_size=batch_size,\n",
    "shuffle=False)"
   ]
  },
  {
   "cell_type": "code",
   "execution_count": 6,
   "metadata": {},
   "outputs": [],
   "source": [
    "class LeNet(nn.Module):\n",
    "    def __init__(self):\n",
    "        super(LeNet, self).__init__()\n",
    "        self.conv1 = nn.Conv2d(1, 20, 5, 1)\n",
    "        self.pool1 = nn.MaxPool2d(2)\n",
    "        self.conv2 = nn.Conv2d(20, 50, 5, 1)\n",
    "        self.pool2 = nn.MaxPool2d(2)\n",
    "        self.fc1 = nn.Linear(4*4*50, 500)\n",
    "        self.fc2 = nn.Linear(500, 10)\n",
    "\n",
    "    def forward(self, x):\n",
    "        x = F.relu(self.conv1(x))\n",
    "        x = self.pool1(x)\n",
    "        x = F.relu(self.conv2(x))\n",
    "        x = self.pool2(x)\n",
    "        x = x.view(-1, 4*4*50)\n",
    "        x = F.relu(self.fc1(x))\n",
    "        x = self.fc2(x)\n",
    "        return x\n",
    "    \n",
    "    def classify(self, x):\n",
    "        x = self.forward(x)\n",
    "        x = x.data.numpy()\n",
    "        return np.argmax(x, axis=1)\n"
   ]
  },
  {
   "cell_type": "code",
   "execution_count": 7,
   "metadata": {},
   "outputs": [],
   "source": [
    "model = LeNet()"
   ]
  },
  {
   "cell_type": "code",
   "execution_count": 10,
   "metadata": {},
   "outputs": [],
   "source": [
    "optimizer = optim.Adagrad(model.parameters(), lr=0.01)\n",
    "criterion = nn.CrossEntropyLoss()\n",
    "epochs = 10"
   ]
  },
  {
   "cell_type": "code",
   "execution_count": 11,
   "metadata": {},
   "outputs": [
    {
     "name": "stdout",
     "output_type": "stream",
     "text": [
      "Loss at 100 was 0.21950587630271912\n",
      "Loss at 200 was 0.022060111165046692\n",
      "Loss at 300 was 0.04995805770158768\n",
      "Loss at 400 was 0.09831493347883224\n",
      "Loss at 500 was 0.03801900893449783\n",
      "Loss at 600 was 0.0161729883402586\n",
      "Loss at 100 was 0.016481755301356316\n",
      "Loss at 200 was 0.0308665968477726\n",
      "Loss at 300 was 0.05004104599356651\n",
      "Loss at 400 was 0.023686721920967102\n",
      "Loss at 500 was 0.01133345253765583\n",
      "Loss at 600 was 0.04204659163951874\n",
      "Loss at 100 was 0.037173300981521606\n",
      "Loss at 200 was 0.0443379245698452\n",
      "Loss at 300 was 0.02301931567490101\n",
      "Loss at 400 was 0.00807615090161562\n",
      "Loss at 500 was 0.008216501213610172\n",
      "Loss at 600 was 0.04570220410823822\n",
      "Loss at 100 was 0.007197526749223471\n",
      "Loss at 200 was 0.028109576553106308\n",
      "Loss at 300 was 0.010770407505333424\n",
      "Loss at 400 was 0.02896406129002571\n",
      "Loss at 500 was 0.013758838176727295\n",
      "Loss at 600 was 0.027859685942530632\n",
      "Loss at 100 was 0.03592894971370697\n",
      "Loss at 200 was 0.010574831627309322\n",
      "Loss at 300 was 0.014562135562300682\n",
      "Loss at 400 was 0.015487933531403542\n",
      "Loss at 500 was 0.00768223637714982\n",
      "Loss at 600 was 0.026901448145508766\n",
      "Loss at 100 was 0.025389306247234344\n",
      "Loss at 200 was 0.020262861624360085\n",
      "Loss at 300 was 0.024919617921113968\n",
      "Loss at 400 was 0.0040265778079628944\n",
      "Loss at 500 was 0.011642408557236195\n",
      "Loss at 600 was 0.00281122257001698\n",
      "Loss at 100 was 0.024636786431074142\n",
      "Loss at 200 was 0.031003499403595924\n",
      "Loss at 300 was 0.04038562253117561\n",
      "Loss at 400 was 0.007799678947776556\n",
      "Loss at 500 was 0.04251742362976074\n",
      "Loss at 600 was 0.007239581551402807\n",
      "Loss at 100 was 0.025428492575883865\n",
      "Loss at 200 was 0.001980075379833579\n",
      "Loss at 300 was 0.014188650995492935\n",
      "Loss at 400 was 0.0023407316766679287\n",
      "Loss at 500 was 0.007724029943346977\n",
      "Loss at 600 was 0.02844419702887535\n",
      "Loss at 100 was 0.05417594313621521\n",
      "Loss at 200 was 0.007016968913376331\n",
      "Loss at 300 was 0.02080186828970909\n",
      "Loss at 400 was 0.002492830390110612\n",
      "Loss at 500 was 0.017266491428017616\n",
      "Loss at 600 was 0.0007294649840332568\n",
      "Loss at 100 was 0.009634541347622871\n",
      "Loss at 200 was 0.013824846595525742\n",
      "Loss at 300 was 0.07555613666772842\n",
      "Loss at 400 was 0.000920960505027324\n",
      "Loss at 500 was 0.02870824746787548\n",
      "Loss at 600 was 0.002439316129311919\n"
     ]
    }
   ],
   "source": [
    "for it in range(epochs):\n",
    "    for batch_idx, (x, labels) in enumerate(train_loader):\n",
    "            optimizer.zero_grad()\n",
    "            x = Variable(x)\n",
    "            labels = Variable(labels)\n",
    "            out = model(x)\n",
    "            loss = criterion(out, labels)\n",
    "            loss.backward()\n",
    "            optimizer.step()\n",
    "            if (batch_idx + 1) % 100 == 0:\n",
    "                print(f'Loss at {batch_idx + 1} was {loss.data[0]}')\n",
    "            \n",
    "    "
   ]
  },
  {
   "cell_type": "code",
   "execution_count": 44,
   "metadata": {},
   "outputs": [],
   "source": [
    "evaluate_x = Variable(test_loader.dataset.test_data.type_as(th.FloatTensor()))\n",
    "evaluate_y = Variable(test_loader.dataset.test_labels.type_as(th.LongTensor()))"
   ]
  },
  {
   "cell_type": "code",
   "execution_count": 45,
   "metadata": {},
   "outputs": [],
   "source": [
    "evaluate_x = evaluate_x.view(len(evaluate_x), 1, 28, 28)"
   ]
  },
  {
   "cell_type": "code",
   "execution_count": 46,
   "metadata": {},
   "outputs": [],
   "source": [
    "output = model.classify(evaluate_x)"
   ]
  },
  {
   "cell_type": "code",
   "execution_count": 47,
   "metadata": {},
   "outputs": [
    {
     "data": {
      "text/plain": [
       "0.98939999999999995"
      ]
     },
     "execution_count": 47,
     "metadata": {},
     "output_type": "execute_result"
    }
   ],
   "source": [
    "metrics.accuracy_score(output, evaluate_y.data.numpy())"
   ]
  },
  {
   "cell_type": "code",
   "execution_count": null,
   "metadata": {},
   "outputs": [],
   "source": []
  }
 ],
 "metadata": {
  "kernelspec": {
   "display_name": "Python 3",
   "language": "python",
   "name": "python3"
  },
  "language_info": {
   "codemirror_mode": {
    "name": "ipython",
    "version": 3
   },
   "file_extension": ".py",
   "mimetype": "text/x-python",
   "name": "python",
   "nbconvert_exporter": "python",
   "pygments_lexer": "ipython3",
   "version": "3.6.3"
  }
 },
 "nbformat": 4,
 "nbformat_minor": 2
}
