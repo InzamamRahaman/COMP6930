{
 "cells": [
  {
   "cell_type": "code",
   "execution_count": 1,
   "metadata": {},
   "outputs": [
    {
     "name": "stdout",
     "output_type": "stream",
     "text": [
      "Populating the interactive namespace from numpy and matplotlib\n"
     ]
    }
   ],
   "source": [
    "%pylab inline"
   ]
  },
  {
   "cell_type": "code",
   "execution_count": 42,
   "metadata": {},
   "outputs": [],
   "source": [
    "import numpy as np\n",
    "import torch as th\n",
    "import torch.nn as nn\n",
    "import torch.nn.init as init\n",
    "import torch.optim as optim\n",
    "from torch.autograd import Variable"
   ]
  },
  {
   "cell_type": "code",
   "execution_count": 7,
   "metadata": {},
   "outputs": [],
   "source": [
    "def plot_classification(ax, x, y, colors, legend):\n",
    "    color_set = set(colors)\n",
    "    for color in color_set:\n",
    "        x_curr = []\n",
    "        y_curr = []\n",
    "        for i, c in enumerate(colors):\n",
    "            if c == color:\n",
    "                x_curr.append(x[i])\n",
    "                y_curr.append(y[i])\n",
    "        ax.scatter(x_curr, y_curr, c=color,label=legend[color])\n",
    "\n",
    "legend = {'red': 0, 'blue': 1}\n",
    "\n",
    "def color_mapping(cl):\n",
    "    colors = ['red', 'blue', 'green']\n",
    "    return colors[cl]\n",
    "color_mapper = np.vectorize(color_mapping)"
   ]
  },
  {
   "cell_type": "code",
   "execution_count": 73,
   "metadata": {},
   "outputs": [],
   "source": [
    "class LogisticRegression(nn.Module):\n",
    "    def __init__(self, n_inputs, n_classes=2, bias=True):\n",
    "        super().__init__()\n",
    "        self.weights = nn.Linear(n_inputs, n_classes, bias=bias)\n",
    "        init.xavier_uniform(self.weights.weight)\n",
    "        #self.act_fun = nn.Sigmoid()\n",
    "    \n",
    "    def forward(self, x):\n",
    "        x = self.weights(x)\n",
    "        #x = self.act_fun(x)\n",
    "        return x\n",
    "    \n",
    "def class_probs_to_class(arr):\n",
    "    return np.argmax(arr, axis=1)"
   ]
  },
  {
   "cell_type": "code",
   "execution_count": 56,
   "metadata": {},
   "outputs": [],
   "source": [
    "and_x = np.array([[0,0], [0,1], [1,0], [1,1]])\n",
    "and_y = np.array([0, 0, 0, 1])"
   ]
  },
  {
   "cell_type": "code",
   "execution_count": 57,
   "metadata": {},
   "outputs": [],
   "source": [
    "and_colors = color_mapper(and_y)"
   ]
  },
  {
   "cell_type": "code",
   "execution_count": 58,
   "metadata": {},
   "outputs": [
    {
     "data": {
      "image/png": "[encoded data removed]",
      "text/plain": [
       "<matplotlib.figure.Figure at 0x111342c50>"
      ]
     },
     "metadata": {},
     "output_type": "display_data"
    }
   ],
   "source": [
    "fig, ax = plt.subplots()\n",
    "plot_classification(ax, and_x[:,0], and_x[:,1], and_colors, legend)"
   ]
  },
  {
   "cell_type": "code",
   "execution_count": 64,
   "metadata": {},
   "outputs": [],
   "source": [
    "clf = LogisticRegression(2)\n",
    "epochs = 30\n",
    "lr = 0.7"
   ]
  },
  {
   "cell_type": "code",
   "execution_count": 65,
   "metadata": {},
   "outputs": [],
   "source": [
    "optimizer = optim.Adam(clf.parameters(),lr=lr)\n",
    "criterion = nn.CrossEntropyLoss()"
   ]
  },
  {
   "cell_type": "code",
   "execution_count": 66,
   "metadata": {},
   "outputs": [
    {
     "name": "stdout",
     "output_type": "stream",
     "text": [
      "Loss at iteration 1 is 0.6768835186958313\n",
      "Loss at iteration 2 is 0.512575089931488\n",
      "Loss at iteration 3 is 0.36364054679870605\n",
      "Loss at iteration 4 is 0.2952151596546173\n",
      "Loss at iteration 5 is 0.21455992758274078\n",
      "Loss at iteration 6 is 0.14726987481117249\n",
      "Loss at iteration 7 is 0.11869797110557556\n",
      "Loss at iteration 8 is 0.0977066159248352\n",
      "Loss at iteration 9 is 0.07836484163999557\n",
      "Loss at iteration 10 is 0.06629897654056549\n",
      "Loss at iteration 11 is 0.05923076719045639\n",
      "Loss at iteration 12 is 0.052484869956970215\n",
      "Loss at iteration 13 is 0.044551342725753784\n",
      "Loss at iteration 14 is 0.03653598204255104\n",
      "Loss at iteration 15 is 0.029807932674884796\n",
      "Loss at iteration 16 is 0.024841925129294395\n",
      "Loss at iteration 17 is 0.021354522556066513\n",
      "Loss at iteration 18 is 0.018804676830768585\n",
      "Loss at iteration 19 is 0.0167385246604681\n",
      "Loss at iteration 20 is 0.01490925531834364\n",
      "Loss at iteration 21 is 0.013248253613710403\n",
      "Loss at iteration 22 is 0.011777935549616814\n",
      "Loss at iteration 23 is 0.01053495705127716\n",
      "Loss at iteration 24 is 0.00953171867877245\n",
      "Loss at iteration 25 is 0.008750686421990395\n",
      "Loss at iteration 26 is 0.008154230192303658\n",
      "Loss at iteration 27 is 0.007696967571973801\n",
      "Loss at iteration 28 is 0.007334989495575428\n",
      "Loss at iteration 29 is 0.007031331770122051\n",
      "Loss at iteration 30 is 0.006758388131856918\n"
     ]
    }
   ],
   "source": [
    "for it in range(epochs):\n",
    "    inputs = Variable(th.FloatTensor(and_x))\n",
    "    labels = Variable(th.LongTensor(and_y))\n",
    "    \n",
    "    optimizer.zero_grad()\n",
    "    output = clf(inputs)\n",
    "    loss = criterion(output, labels)\n",
    "    print(f'Loss at iteration {it + 1} is {loss.data[0]}')\n",
    "    loss.backward()\n",
    "    optimizer.step()"
   ]
  },
  {
   "cell_type": "code",
   "execution_count": 74,
   "metadata": {},
   "outputs": [
    {
     "name": "stdout",
     "output_type": "stream",
     "text": [
      "[[ 6.76958704 -7.47664785]\n",
      " [ 1.19044161 -3.15566778]\n",
      " [ 2.77099371 -2.25751972]\n",
      " [-2.80815172  2.06345987]]\n",
      "[0 0 0 1]\n"
     ]
    },
    {
     "data": {
      "image/png": "[encoded data removed]",
      "text/plain": [
       "<matplotlib.figure.Figure at 0x111a948d0>"
      ]
     },
     "metadata": {},
     "output_type": "display_data"
    }
   ],
   "source": [
    "fig, ax = plt.subplots()\n",
    "predicted_classes = class_probs_to_class(output.data.numpy())\n",
    "print(output.data.numpy())\n",
    "print(predicted_classes)\n",
    "plot_classification(ax, and_x[:,0], and_x[:,1], color_mapper(predicted_classes), legend)"
   ]
  },
  {
   "cell_type": "code",
   "execution_count": null,
   "metadata": {},
   "outputs": [],
   "source": []
  }
 ],
 "metadata": {
  "kernelspec": {
   "display_name": "Python 3",
   "language": "python",
   "name": "python3"
  },
  "language_info": {
   "codemirror_mode": {
    "name": "ipython",
    "version": 3
   },
   "file_extension": ".py",
   "mimetype": "text/x-python",
   "name": "python",
   "nbconvert_exporter": "python",
   "pygments_lexer": "ipython3",
   "version": "3.6.3"
  }
 },
 "nbformat": 4,
 "nbformat_minor": 2
}
